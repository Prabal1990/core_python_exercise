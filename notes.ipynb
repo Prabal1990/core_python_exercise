{
 "cells": [
  {
   "cell_type": "code",
   "execution_count": 1,
   "metadata": {},
   "outputs": [
    {
     "name": "stdout",
     "output_type": "stream",
     "text": [
      "Please tell me your name: \n",
      "Hello,  !\n",
      "Please tell me your name: \n",
      "Hello,  !\n",
      "Please tell me your name: \n",
      "Hello,  !\n",
      "Please tell me your name: \n",
      "Hello,  !\n",
      "Please tell me your name: \n",
      "Hello,  !\n",
      "Please tell me your name: \n",
      "Hello,  !\n",
      "Please tell me your name: \n",
      "Hello,  !\n",
      "Please tell me your name: \n",
      "Hello,  !\n",
      "Please tell me your name: \n"
     ]
    }
   ],
   "source": [
    "def format_name(first_name, last_name):\n",
    "    full_name = f\"{first_name} {last_name}\" \n",
    "    return full_name.title()\n",
    "\n",
    "#while true is for creating infinite loop\n",
    "while True:\n",
    "    print(\"Please tell me your name: \")\n",
    "    f_name = input(\"First Name: \")\n",
    "    l_name = input(\"Last Name: \")\n",
    "    name = format_name(f_name, l_name )\n",
    "    print(f\"Hello, {name}!\")"
   ]
  }
 ],
 "metadata": {
  "kernelspec": {
   "display_name": "Python 3",
   "language": "python",
   "name": "python3"
  },
  "language_info": {
   "codemirror_mode": {
    "name": "ipython",
    "version": 3
   },
   "file_extension": ".py",
   "mimetype": "text/x-python",
   "name": "python",
   "nbconvert_exporter": "python",
   "pygments_lexer": "ipython3",
   "version": "3.11.1"
  },
  "orig_nbformat": 4,
  "vscode": {
   "interpreter": {
    "hash": "74cc819deff76c29e4928f7ff26e3eddcbba8fed33adfaaa19de16534a73accc"
   }
  }
 },
 "nbformat": 4,
 "nbformat_minor": 2
}
